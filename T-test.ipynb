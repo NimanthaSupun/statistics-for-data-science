{
 "cells": [
  {
   "cell_type": "markdown",
   "id": "4715fb53-3c7f-4d2e-b135-56f94a725cd4",
   "metadata": {},
   "source": [
    "# T Test\n",
    "\n",
    "## T-test with python\n",
    "![image.png](attachment:image.png)"
   ]
  },
  {
   "cell_type": "code",
   "execution_count": 10,
   "id": "d0813bf6-1c8a-4fa5-886d-997e41889192",
   "metadata": {},
   "outputs": [],
   "source": [
    "ages = [10,20,30,15,35,50,18,16,55,35,25,41,18,30,28,14,24,16,17,32,35,26,27,65,18,43,23,21,20,19,70,50]"
   ]
  },
  {
   "cell_type": "code",
   "execution_count": 12,
   "id": "e82392de-6e68-49c8-8fd9-ce1d86404032",
   "metadata": {},
   "outputs": [],
   "source": [
    "import numpy as np"
   ]
  },
  {
   "cell_type": "code",
   "execution_count": 14,
   "id": "b9e4f3d8-c68e-4f07-9140-9dddd1ed33a6",
   "metadata": {},
   "outputs": [
    {
     "data": {
      "text/plain": [
       "32"
      ]
     },
     "execution_count": 14,
     "metadata": {},
     "output_type": "execute_result"
    }
   ],
   "source": [
    "len(ages)"
   ]
  },
  {
   "cell_type": "code",
   "execution_count": 20,
   "id": "04f78605-7c9f-4ff6-918f-bc8faebaaf2b",
   "metadata": {},
   "outputs": [],
   "source": [
    "sample_size = 10\n",
    "age_sample = np.random.choice(ages,sample_size)"
   ]
  },
  {
   "cell_type": "code",
   "execution_count": 22,
   "id": "13df3d1a-f069-4028-bafd-58f5496df228",
   "metadata": {},
   "outputs": [
    {
     "data": {
      "text/plain": [
       "array([14, 20, 30, 15, 35, 16, 18, 43, 18, 14])"
      ]
     },
     "execution_count": 22,
     "metadata": {},
     "output_type": "execute_result"
    }
   ],
   "source": [
    "age_sample"
   ]
  },
  {
   "cell_type": "code",
   "execution_count": 24,
   "id": "78a61b1e-e7cf-45f6-a924-f0f7f63ed4f6",
   "metadata": {},
   "outputs": [],
   "source": [
    "from scipy.stats import ttest_1samp"
   ]
  },
  {
   "cell_type": "code",
   "execution_count": 26,
   "id": "93ecddab-5d6a-439b-9684-5f3df929c07f",
   "metadata": {},
   "outputs": [],
   "source": [
    "ttest,p_value = ttest_1samp(age_sample,30)"
   ]
  },
  {
   "cell_type": "code",
   "execution_count": 28,
   "id": "3e1b51e6-c279-463f-95dc-5729ad8ec49d",
   "metadata": {},
   "outputs": [
    {
     "data": {
      "text/plain": [
       "0.039533382400462336"
      ]
     },
     "execution_count": 28,
     "metadata": {},
     "output_type": "execute_result"
    }
   ],
   "source": [
    "p_value"
   ]
  },
  {
   "cell_type": "code",
   "execution_count": 30,
   "id": "649b3e9e-8aab-4207-a1b0-c0adc8735559",
   "metadata": {},
   "outputs": [
    {
     "name": "stdout",
     "output_type": "stream",
     "text": [
      "we are rejecting null hypothesis\n"
     ]
    }
   ],
   "source": [
    "if p_value < 0.05: # alpha value is 0.05 or 5%\n",
    "    print(\"we are rejecting null hypothesis\")\n",
    "else:\n",
    "    print(\"we are acepting null hypothesis\")"
   ]
  },
  {
   "cell_type": "code",
   "execution_count": 32,
   "id": "3ba10de9-d12b-4c73-bbb1-ae122364d0d9",
   "metadata": {},
   "outputs": [
    {
     "data": {
      "text/plain": [
       "-2.405597528391703"
      ]
     },
     "execution_count": 32,
     "metadata": {},
     "output_type": "execute_result"
    }
   ],
   "source": [
    "ttest"
   ]
  },
  {
   "cell_type": "markdown",
   "id": "6261cbab-3386-4f46-9c82-7878576d319e",
   "metadata": {},
   "source": [
    "# Example - 2"
   ]
  },
  {
   "cell_type": "code",
   "execution_count": 52,
   "id": "2cbdcff6-23cd-4e82-9aa9-1838f7d0f40b",
   "metadata": {},
   "outputs": [],
   "source": [
    "import numpy as np\n",
    "import pandas as pd\n",
    "import scipy.stats as stats\n",
    "import math\n",
    "np.random.seed(6)\n",
    "s_age = stats.poisson.rvs(loc=18,mu=35,size=1500)\n",
    "cA_age = stats.poisson.rvs(loc=18,mu=30,size=60)"
   ]
  },
  {
   "cell_type": "code",
   "execution_count": 54,
   "id": "db7fa683-3c83-4906-a096-43aa01a560b6",
   "metadata": {},
   "outputs": [
    {
     "data": {
      "text/plain": [
       "46.9"
      ]
     },
     "execution_count": 54,
     "metadata": {},
     "output_type": "execute_result"
    }
   ],
   "source": [
    "cA_age.mean()"
   ]
  },
  {
   "cell_type": "code",
   "execution_count": 56,
   "id": "cf0436fd-e51e-4a24-8ddc-82bf657163f8",
   "metadata": {},
   "outputs": [],
   "source": [
    "_,p_value=stats.ttest_1samp(a=cA_age,popmean=s_age.mean())"
   ]
  },
  {
   "cell_type": "code",
   "execution_count": 62,
   "id": "821ac342-3535-421e-b2bf-a01533d6e115",
   "metadata": {},
   "outputs": [
    {
     "data": {
      "text/plain": [
       "1.139027071016194e-13"
      ]
     },
     "execution_count": 62,
     "metadata": {},
     "output_type": "execute_result"
    }
   ],
   "source": [
    "p_value"
   ]
  },
  {
   "cell_type": "code",
   "execution_count": 58,
   "id": "ca62736e-4328-4a60-90ea-db439f11eb1c",
   "metadata": {},
   "outputs": [
    {
     "data": {
      "text/plain": [
       "53.303333333333335"
      ]
     },
     "execution_count": 58,
     "metadata": {},
     "output_type": "execute_result"
    }
   ],
   "source": [
    "s_age.mean()"
   ]
  },
  {
   "cell_type": "code",
   "execution_count": 60,
   "id": "f8868f5b-c9ff-40f2-9909-d695dc2861c7",
   "metadata": {},
   "outputs": [
    {
     "name": "stdout",
     "output_type": "stream",
     "text": [
      " we are rejecting null hypothesis\n"
     ]
    }
   ],
   "source": [
    "if p_value < 0.05:    # alpha value is 0.05 or 5%\n",
    "    print(\" we are rejecting null hypothesis\")\n",
    "else:\n",
    "    print(\"we are accepting null hypothesis\")"
   ]
  },
  {
   "cell_type": "code",
   "execution_count": null,
   "id": "92774456-a885-4be1-9e78-723c517ac2a4",
   "metadata": {},
   "outputs": [],
   "source": []
  }
 ],
 "metadata": {
  "kernelspec": {
   "display_name": "Python [conda env:base] *",
   "language": "python",
   "name": "conda-base-py"
  },
  "language_info": {
   "codemirror_mode": {
    "name": "ipython",
    "version": 3
   },
   "file_extension": ".py",
   "mimetype": "text/x-python",
   "name": "python",
   "nbconvert_exporter": "python",
   "pygments_lexer": "ipython3",
   "version": "3.12.7"
  }
 },
 "nbformat": 4,
 "nbformat_minor": 5
}
